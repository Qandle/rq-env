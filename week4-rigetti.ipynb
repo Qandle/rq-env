{
 "cells": [
  {
   "cell_type": "markdown",
   "metadata": {},
   "source": [
    "# Exercise 1: First Run"
   ]
  },
  {
   "cell_type": "code",
   "execution_count": 36,
   "metadata": {},
   "outputs": [
    {
     "name": "stdout",
     "output_type": "stream",
     "text": [
      "DECLARE readout BIT[2]\n",
      "X 0\n",
      "CNOT 0 1\n",
      "MEASURE 0 readout[0]\n",
      "MEASURE 1 readout[1]\n",
      "\n"
     ]
    }
   ],
   "source": [
    "from pyquil import Program\n",
    "from pyquil.gates import *\n",
    "from pyquil import get_qc\n",
    "\n",
    "program = Program()\n",
    "program += X(0)\n",
    "program += CNOT(0, 1)\n",
    "readout = program.declare('readout', 'BIT', 2)\n",
    "program += MEASURE(0, readout[0])\n",
    "program += MEASURE(1, readout[1])\n",
    "print(program)\n"
   ]
  },
  {
   "cell_type": "code",
   "execution_count": 37,
   "metadata": {},
   "outputs": [
    {
     "name": "stdout",
     "output_type": "stream",
     "text": [
      "[[1 1]]\n"
     ]
    }
   ],
   "source": [
    "quantum_computer = get_qc('5q-qvm')\n",
    "# print(quantum_computer)\n",
    "executable = quantum_computer.compile(program)\n",
    "result = quantum_computer.run(executable)\n",
    "print(result.get_register_map()['readout'])"
   ]
  },
  {
   "cell_type": "code",
   "execution_count": 38,
   "metadata": {},
   "outputs": [
    {
     "name": "stdout",
     "output_type": "stream",
     "text": [
      "[[1 1]\n",
      " [1 1]\n",
      " [1 1]\n",
      " [1 1]\n",
      " [1 1]\n",
      " [1 1]\n",
      " [1 1]\n",
      " [1 1]\n",
      " [1 1]\n",
      " [1 1]]\n"
     ]
    }
   ],
   "source": [
    "program.wrap_in_numshots_loop(10)\n",
    "executable = quantum_computer.compile(program)\n",
    "result = quantum_computer.run(executable)\n",
    "print(result.get_register_map()['readout'])"
   ]
  },
  {
   "cell_type": "markdown",
   "metadata": {},
   "source": [
    "# Exercise 2: Second Run"
   ]
  },
  {
   "cell_type": "code",
   "execution_count": 73,
   "metadata": {},
   "outputs": [
    {
     "name": "stdout",
     "output_type": "stream",
     "text": [
      "[1 1 1 1 1 1 1 1 1 1]\n",
      "[1 1 1 1 1 1 1 1 1 1]\n"
     ]
    }
   ],
   "source": [
    "program2 = Program(X(0), CNOT(0, 1))\n",
    "# run and measure the qubits 10 times\n",
    "program2.measure_all()\n",
    "program2.wrap_in_numshots_loop(10)\n",
    "executable = quantum_computer.compile(program2)\n",
    "result = quantum_computer.run(executable)\n",
    "print(result.get_register_map()['ro'].T[0])\n",
    "print(result.get_register_map()['ro'].T[1])"
   ]
  }
 ],
 "metadata": {
  "kernelspec": {
   "display_name": "base",
   "language": "python",
   "name": "python3"
  },
  "language_info": {
   "codemirror_mode": {
    "name": "ipython",
    "version": 3
   },
   "file_extension": ".py",
   "mimetype": "text/x-python",
   "name": "python",
   "nbconvert_exporter": "python",
   "pygments_lexer": "ipython3",
   "version": "3.12.7"
  }
 },
 "nbformat": 4,
 "nbformat_minor": 2
}
