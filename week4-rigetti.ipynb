{
 "cells": [
  {
   "cell_type": "markdown",
   "metadata": {},
   "source": [
    "# Exercise 1: First Run"
   ]
  },
  {
   "cell_type": "code",
   "execution_count": 1,
   "metadata": {},
   "outputs": [
    {
     "name": "stdout",
     "output_type": "stream",
     "text": [
      "DECLARE readout BIT[2]\n",
      "X 0\n",
      "CNOT 0 1\n",
      "MEASURE 0 readout[0]\n",
      "MEASURE 1 readout[1]\n",
      "\n"
     ]
    }
   ],
   "source": [
    "from pyquil import Program\n",
    "from pyquil.gates import *\n",
    "from pyquil import get_qc\n",
    "\n",
    "program = Program()\n",
    "program += X(0)\n",
    "program += CNOT(0, 1)\n",
    "readout = program.declare('readout', 'BIT', 2)\n",
    "program += MEASURE(0, readout[0])\n",
    "program += MEASURE(1, readout[1])\n",
    "print(program)\n"
   ]
  },
  {
   "cell_type": "code",
   "execution_count": 2,
   "metadata": {},
   "outputs": [
    {
     "name": "stdout",
     "output_type": "stream",
     "text": [
      "[[1 1]]\n"
     ]
    }
   ],
   "source": [
    "quantum_computer = get_qc('5q-qvm')\n",
    "# print(quantum_computer)\n",
    "executable = quantum_computer.compile(program)\n",
    "result = quantum_computer.run(executable)\n",
    "print(result.get_register_map()['readout'])"
   ]
  },
  {
   "cell_type": "code",
   "execution_count": 3,
   "metadata": {},
   "outputs": [
    {
     "name": "stdout",
     "output_type": "stream",
     "text": [
      "[[1 1]\n",
      " [1 1]\n",
      " [1 1]\n",
      " [1 1]\n",
      " [1 1]\n",
      " [1 1]\n",
      " [1 1]\n",
      " [1 1]\n",
      " [1 1]\n",
      " [1 1]]\n"
     ]
    }
   ],
   "source": [
    "program.wrap_in_numshots_loop(10)\n",
    "executable = quantum_computer.compile(program)\n",
    "result = quantum_computer.run(executable)\n",
    "print(result.get_register_map()['readout'])"
   ]
  },
  {
   "cell_type": "markdown",
   "metadata": {},
   "source": [
    "# Exercise 2: Second Run"
   ]
  },
  {
   "cell_type": "code",
   "execution_count": 4,
   "metadata": {},
   "outputs": [
    {
     "name": "stdout",
     "output_type": "stream",
     "text": [
      "[1 1 1 1 1 1 1 1 1 1]\n",
      "[1 1 1 1 1 1 1 1 1 1]\n"
     ]
    }
   ],
   "source": [
    "program2 = Program(X(0), CNOT(0, 1))\n",
    "# run and measure the qubits 10 times\n",
    "program2.measure_all()\n",
    "program2.wrap_in_numshots_loop(10)\n",
    "executable = quantum_computer.compile(program2)\n",
    "result = quantum_computer.run(executable)\n",
    "print(result.get_register_map()['ro'].T[0])\n",
    "print(result.get_register_map()['ro'].T[1])"
   ]
  },
  {
   "cell_type": "markdown",
   "metadata": {},
   "source": [
    "# Homework\n",
    "Study more on Quantum Gates and build a quantum circuits with Forest \n",
    "- “The output of X gate is similar to the output of Hadamard-Z-Hadamard gates.”\n",
    "- Build circuits to prove above sentence and discuss  why both operations show the same result."
   ]
  },
  {
   "cell_type": "markdown",
   "metadata": {},
   "source": [
    "![h-z-h](https://github.com/Qandle/rq-env/blob/kim/image/h-z-h.png?raw=true)"
   ]
  },
  {
   "cell_type": "code",
   "execution_count": 5,
   "metadata": {},
   "outputs": [
    {
     "name": "stdout",
     "output_type": "stream",
     "text": [
      "DECLARE readout BIT[1]\n",
      "X 0\n",
      "MEASURE 0 readout[0]\n",
      "\n"
     ]
    },
    {
     "name": "stdout",
     "output_type": "stream",
     "text": [
      "[[1]]\n"
     ]
    }
   ],
   "source": [
    "# create the x-gate program\n",
    "# 1. x-gate on the qubit |0>\n",
    "program_x_0 = Program()\n",
    "program_x_0 += X(0)\n",
    "readout_x_0 = program_x_0.declare('readout', 'BIT', 1)\n",
    "program_x_0 += MEASURE(0, readout_x_0[0])\n",
    "print(program_x_0)\n",
    "\n",
    "# compile and run the program for 100 shots\n",
    "executable_x_0 = quantum_computer.compile(program_x_0)\n",
    "result_x_0 = quantum_computer.run(executable_x_0)\n",
    "print(result_x_0.get_register_map()['readout'])"
   ]
  },
  {
   "cell_type": "code",
   "execution_count": 6,
   "metadata": {},
   "outputs": [
    {
     "name": "stdout",
     "output_type": "stream",
     "text": [
      "DECLARE readout BIT[1]\n",
      "X 0\n",
      "X 0\n",
      "MEASURE 0 readout[0]\n",
      "\n",
      "[[0]]\n"
     ]
    }
   ],
   "source": [
    "# create the x-gate program\n",
    "# 2. x-gate on the qubit |1>\n",
    "program_x_1 = Program()\n",
    "program_x_1 += X(0) # change qubit state to |1>\n",
    "program_x_1 += X(0)\n",
    "readout_x_1 = program_x_1.declare('readout', 'BIT', 1)\n",
    "program_x_1 += MEASURE(0, readout_x_1[0])\n",
    "print(program_x_1)\n",
    "\n",
    "executable_x_1 = quantum_computer.compile(program_x_1)\n",
    "result_x_1 = quantum_computer.run(executable_x_1)\n",
    "print(result_x_1.get_register_map()['readout'])"
   ]
  },
  {
   "cell_type": "code",
   "execution_count": 7,
   "metadata": {},
   "outputs": [
    {
     "name": "stdout",
     "output_type": "stream",
     "text": [
      "DECLARE readout BIT[1]\n",
      "H 0\n",
      "Z 0\n",
      "H 0\n",
      "MEASURE 0 readout[0]\n",
      "\n",
      "[[1]]\n"
     ]
    }
   ],
   "source": [
    "# create the HZH-gate program\n",
    "# 1. HZH-gate on the qubit |0>\n",
    "program_hzh_0 = Program()\n",
    "program_hzh_0 += H(0)\n",
    "program_hzh_0 += Z(0)\n",
    "program_hzh_0 += H(0)\n",
    "readout_hzh_0 = program_hzh_0.declare('readout', 'BIT', 1)\n",
    "program_hzh_0 += MEASURE(0, readout_hzh_0[0])\n",
    "print(program_hzh_0)\n",
    "\n",
    "executable_hzh_0 = quantum_computer.compile(program_hzh_0)\n",
    "result_hzh_0 = quantum_computer.run(executable_hzh_0)\n",
    "print(result_hzh_0.get_register_map()['readout'])"
   ]
  },
  {
   "cell_type": "code",
   "execution_count": 8,
   "metadata": {},
   "outputs": [
    {
     "name": "stdout",
     "output_type": "stream",
     "text": [
      "DECLARE readout BIT[1]\n",
      "X 0\n",
      "H 0\n",
      "Z 0\n",
      "H 0\n",
      "MEASURE 0 readout[0]\n",
      "\n",
      "[[0]]\n"
     ]
    }
   ],
   "source": [
    "# create the HZH-gate program\n",
    "# 2. HZH-gate on the qubit |1>\n",
    "program_hzh_1 = Program()\n",
    "program_hzh_1 += X(0) # change qubit state to |1>\n",
    "program_hzh_1 += H(0)\n",
    "program_hzh_1 += Z(0)\n",
    "program_hzh_1 += H(0)\n",
    "readout_hzh_1 = program_hzh_1.declare('readout', 'BIT', 1)\n",
    "program_hzh_1 += MEASURE(0, readout_hzh_1[0])\n",
    "print(program_hzh_1)\n",
    "\n",
    "executable_hzh_1 = quantum_computer.compile(program_hzh_1)\n",
    "result_hzh_1 = quantum_computer.run(executable_hzh_1)\n",
    "print(result_hzh_1.get_register_map()['readout'])"
   ]
  },
  {
   "cell_type": "markdown",
   "metadata": {},
   "source": [
    "To sum up, using X-gate on qubit |0> and HZH-gate on qubit |0> similarly get the result as |1>.\n",
    "On the other hand, using X-gate on qubit |1> and HZH-gate on the qubit |1> get the same result as |0>. So the X-gate and HZH-gate is equivalent."
   ]
  }
 ],
 "metadata": {
  "kernelspec": {
   "display_name": "base",
   "language": "python",
   "name": "python3"
  },
  "language_info": {
   "codemirror_mode": {
    "name": "ipython",
    "version": 3
   },
   "file_extension": ".py",
   "mimetype": "text/x-python",
   "name": "python",
   "nbconvert_exporter": "python",
   "pygments_lexer": "ipython3",
   "version": "3.12.2"
  }
 },
 "nbformat": 4,
 "nbformat_minor": 2
}
