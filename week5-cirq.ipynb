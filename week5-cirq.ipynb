{
 "cells": [
  {
   "cell_type": "markdown",
   "metadata": {},
   "source": [
    "## Exercise 1: Gate-based Programming with Cirq"
   ]
  },
  {
   "cell_type": "code",
   "execution_count": 1,
   "metadata": {},
   "outputs": [
    {
     "name": "stdout",
     "output_type": "stream",
     "text": [
      "(0, 0): ───X───@───M───\n",
      "               │   │\n",
      "(0, 1): ───────X───M───\n"
     ]
    }
   ],
   "source": [
    "import cirq\n",
    "\n",
    "q0 = cirq.GridQubit(0, 0)\n",
    "q1 = cirq.GridQubit(0, 1)\n",
    "\n",
    "m0 = cirq.X(q0)\n",
    "m1 = cirq.CNOT(q0, q1)\n",
    "m2 = cirq.measure(q0, q1)\n",
    "\n",
    "cir = cirq.Circuit([m0, m1, m2])\n",
    "\n",
    "print(cir)"
   ]
  },
  {
   "cell_type": "code",
   "execution_count": 2,
   "metadata": {},
   "outputs": [
    {
     "name": "stdout",
     "output_type": "stream",
     "text": [
      "measurements: q(0, 0),q(0, 1)=11\n",
      "\n",
      "qubits: (cirq.GridQubit(0, 0),)\n",
      "output vector: |1⟩\n",
      "\n",
      "qubits: (cirq.GridQubit(0, 1),)\n",
      "output vector: |1⟩\n",
      "\n",
      "phase:\n",
      "output vector: |⟩\n"
     ]
    }
   ],
   "source": [
    "sim = cirq.Simulator()\n",
    "print(sim.simulate(cir))"
   ]
  },
  {
   "cell_type": "code",
   "execution_count": 3,
   "metadata": {},
   "outputs": [
    {
     "name": "stdout",
     "output_type": "stream",
     "text": [
      "q(0, 0),q(0, 1)=1111111111, 1111111111\n"
     ]
    }
   ],
   "source": [
    "results = sim.run(cir, repetitions=10)\n",
    "print(results)"
   ]
  },
  {
   "cell_type": "markdown",
   "metadata": {},
   "source": [
    "## 1-Qubit Operation\n",
    "### |0> is applied X then Z gate"
   ]
  },
  {
   "cell_type": "code",
   "execution_count": 4,
   "metadata": {},
   "outputs": [
    {
     "name": "stdout",
     "output_type": "stream",
     "text": [
      "0: ───X───Z───M───\n",
      "q(0)=1111111111\n"
     ]
    }
   ],
   "source": [
    "# Show that |0> is applied X then Z\n",
    "\n",
    "# create qubit (1-dimentional)\n",
    "qubits = cirq.LineQubit.range(1)\n",
    "q0 = qubits[0]\n",
    "\n",
    "# apply X and Z\n",
    "mX = cirq.X(q0) # rotate 180 degree around x-axis : q0 = |1>\n",
    "mZ = cirq.Z(q0) # rotate 180 degree around z-axis : q0 = |1>\n",
    "mMeasure = cirq.measure(q0)\n",
    "\n",
    "# create circuit\n",
    "cir = cirq.Circuit([mX, mZ, mMeasure])\n",
    "print(cir)\n",
    "\n",
    "# run the circuit\n",
    "sim = cirq.Simulator()\n",
    "results = sim.run(cir, repetitions=10)\n",
    "print(results)"
   ]
  },
  {
   "cell_type": "markdown",
   "metadata": {},
   "source": [
    "## 2-Qubit Operation\n",
    "### |00> apply XX results in |11>"
   ]
  },
  {
   "cell_type": "code",
   "execution_count": 5,
   "metadata": {},
   "outputs": [
    {
     "name": "stdout",
     "output_type": "stream",
     "text": [
      "0: ───X───M───\n",
      "          │\n",
      "1: ───X───M───\n",
      "q(0),q(1)=1111111111, 1111111111\n"
     ]
    }
   ],
   "source": [
    "# Show that |00> apply XX results in |11>\n",
    "\n",
    "qubits = cirq.LineQubit.range(2)\n",
    "mX0 = cirq.X(qubits[0]) # rotate 180 degree around x-axis : q0 = |1>\n",
    "mX1 = cirq.X(qubits[1]) # rotate 180 degree around x-axis : q1 = |1>\n",
    "mMeasure = cirq.measure(*qubits)\n",
    "\n",
    "cir = cirq.Circuit([mX0, mX1, mMeasure])\n",
    "print(cir)\n",
    "\n",
    "sim = cirq.Simulator()\n",
    "results = sim.run(cir, repetitions=10)\n",
    "print(results)"
   ]
  },
  {
   "cell_type": "markdown",
   "metadata": {},
   "source": [
    "### What’s happen if we want to apply gate X only one qubit in two-qubit system"
   ]
  },
  {
   "cell_type": "code",
   "execution_count": 6,
   "metadata": {},
   "outputs": [
    {
     "name": "stdout",
     "output_type": "stream",
     "text": [
      "0: ───X───M───\n",
      "          │\n",
      "1: ───────M───\n",
      "q(0),q(1)=1111111111, 0000000000\n"
     ]
    }
   ],
   "source": [
    "# Apply X gate to only the first qubit\n",
    "qubits = cirq.LineQubit.range(2)\n",
    "mX0 = cirq.X(qubits[0]) # rotate 180 degree around x-axis : q0 = |1>\n",
    "mMeasure = cirq.measure(*qubits)\n",
    "\n",
    "cir = cirq.Circuit([mX0, mMeasure])\n",
    "print(cir)\n",
    "\n",
    "sim = cirq.Simulator()\n",
    "results = sim.run(cir, repetitions=10)\n",
    "print(results)"
   ]
  },
  {
   "cell_type": "code",
   "execution_count": 7,
   "metadata": {},
   "outputs": [
    {
     "name": "stdout",
     "output_type": "stream",
     "text": [
      "0: ───────M───\n",
      "          │\n",
      "1: ───X───M───\n",
      "q(0),q(1)=0000000000, 1111111111\n"
     ]
    }
   ],
   "source": [
    "# Apply X gate to only the second qubit\n",
    "qubits = cirq.LineQubit.range(2)\n",
    "mX1 = cirq.X(qubits[1]) # rotate 180 degree around x-axis : q1 = |1>\n",
    "mMeasure = cirq.measure(*qubits)\n",
    "\n",
    "cir = cirq.Circuit([mX1, mMeasure])\n",
    "print(cir)\n",
    "\n",
    "sim = cirq.Simulator()\n",
    "results = sim.run(cir, repetitions=10)\n",
    "print(results)"
   ]
  },
  {
   "cell_type": "markdown",
   "metadata": {},
   "source": [
    "### 2-Qubit with CNOT (LSB)"
   ]
  },
  {
   "cell_type": "code",
   "execution_count": 8,
   "metadata": {},
   "outputs": [
    {
     "name": "stdout",
     "output_type": "stream",
     "text": [
      "0: ───@───M───\n",
      "      │   │\n",
      "1: ───X───M───\n",
      "q(0),q(1)=0000000000, 0000000000\n"
     ]
    }
   ],
   "source": [
    "# |00> is applied gate CNOT, the result is |00>\n",
    "qubits = cirq.LineQubit.range(2)\n",
    "\n",
    "# qubit 0 is control qubit, qubit 1 is target qubit\n",
    "# cause qubit 0 is |0>, qubit 1 not change\n",
    "mCNOT = cirq.CNOT(qubits[0], qubits[1])\n",
    "mMeasure = cirq.measure(*qubits)\n",
    "\n",
    "cir = cirq.Circuit([mCNOT, mMeasure])\n",
    "print(cir)\n",
    "\n",
    "sim = cirq.Simulator()\n",
    "results = sim.run(cir, repetitions=10)\n",
    "print(results)"
   ]
  },
  {
   "cell_type": "code",
   "execution_count": 9,
   "metadata": {},
   "outputs": [
    {
     "name": "stdout",
     "output_type": "stream",
     "text": [
      "0: ───X───@───M───\n",
      "          │   │\n",
      "1: ───────X───M───\n",
      "q(0),q(1)=1111111111, 1111111111\n"
     ]
    }
   ],
   "source": [
    "# |01> is applied gate CNOT, the result is |11>\n",
    "qubits = cirq.LineQubit.range(2)\n",
    "mX = cirq.X(qubits[0]) # q0 = |1>\n",
    "\n",
    "# qubit 0 is control qubit, qubit 1 is target qubit\n",
    "# cause qubit 0 is |1>, qubit 1 is flipped\n",
    "mCNOT = cirq.CNOT(qubits[0], qubits[1])\n",
    "mMeasure = cirq.measure(*qubits)\n",
    "\n",
    "cir = cirq.Circuit([mX, mCNOT, mMeasure])\n",
    "print(cir)\n",
    "\n",
    "sim = cirq.Simulator()\n",
    "results = sim.run(cir, repetitions=10)\n",
    "print(results)"
   ]
  },
  {
   "cell_type": "markdown",
   "metadata": {},
   "source": [
    "## Exercise 2: Practice of Cirq Programming\n",
    "### Build a 3 qubits of Quantum circuit that target qubit of CCNOT can be only 1 with 16 trials"
   ]
  },
  {
   "cell_type": "code",
   "execution_count": 10,
   "metadata": {},
   "outputs": [
    {
     "name": "stdout",
     "output_type": "stream",
     "text": [
      "0: ───X───@───M───\n",
      "          │   │\n",
      "1: ───X───@───M───\n",
      "          │   │\n",
      "2: ───────X───M───\n",
      "q(0),q(1),q(2)=1111111111111111, 1111111111111111, 1111111111111111\n"
     ]
    }
   ],
   "source": [
    "# create 3 qubits that use ccnot and always results in |11>\n",
    "qubits = cirq.LineQubit.range(3)\n",
    "\n",
    "# qubit 0 and 1 are control qubit, qubit 2 is target qubit\n",
    "# cause qubit 0 and 1 are |1>, qubit 2 is flipped to |1>\n",
    "mX0 = cirq.X(qubits[0]) # q0 = |1>\n",
    "mX1 = cirq.X(qubits[1]) # q1 = |1>\n",
    "mCCNOT = cirq.CCX(qubits[0], qubits[1], qubits[2])\n",
    "mMeasure = cirq.measure(*qubits)\n",
    "\n",
    "cir = cirq.Circuit([mX0, mX1, mCCNOT, mMeasure])\n",
    "print(cir)\n",
    "\n",
    "sim = cirq.Simulator()\n",
    "results = sim.run(cir, repetitions=16)\n",
    "print(results)"
   ]
  },
  {
   "cell_type": "markdown",
   "metadata": {},
   "source": [
    "## Quantum Adder Circuit"
   ]
  },
  {
   "cell_type": "code",
   "execution_count": 11,
   "metadata": {},
   "outputs": [],
   "source": [
    "def q_init(qubit, state):\n",
    "    if state == 1:\n",
    "        yield cirq.X(qubit)"
   ]
  },
  {
   "cell_type": "code",
   "execution_count": 12,
   "metadata": {},
   "outputs": [
    {
     "name": "stdout",
     "output_type": "stream",
     "text": [
      "0: ───@───────@───M───\n",
      "      │       │   │\n",
      "1: ───┼───@───@───M───\n",
      "      │   │   │   │\n",
      "2: ───X───X───┼───M───\n",
      "              │   │\n",
      "3: ───────────X───M───\n",
      "      ┌──┐\n",
      "0: ─────@────────@───M───\n",
      "        │        │   │\n",
      "1: ────X┼────@───@───M───\n",
      "        │    │   │   │\n",
      "2: ─────X────X───┼───M───\n",
      "                 │   │\n",
      "3: ──────────────X───M───\n",
      "      └──┘\n",
      "0: ───X───@───────@───M───\n",
      "          │       │   │\n",
      "1: ───────┼───@───@───M───\n",
      "          │   │   │   │\n",
      "2: ───────X───X───┼───M───\n",
      "                  │   │\n",
      "3: ───────────────X───M───\n",
      "0: ───X───@───────@───M───\n",
      "          │       │   │\n",
      "1: ───X───┼───@───@───M───\n",
      "          │   │   │   │\n",
      "2: ───────X───X───┼───M───\n",
      "                  │   │\n",
      "3: ───────────────X───M───\n"
     ]
    }
   ],
   "source": [
    "def quantum_half_adder(inputA, inputB, sum, carryout):\n",
    "    # XOR gate => CNOT gate\n",
    "    # return sum\n",
    "    yield cirq.CNOT(inputA, sum)\n",
    "    yield cirq.CNOT(inputB, sum)\n",
    "\n",
    "    # AND gate => CCNOT gate\n",
    "    # return carryout\n",
    "    yield cirq.CCX(inputA, inputB, carryout)\n",
    "\n",
    "# create qubits in 4 events\n",
    "events = [\n",
    "    [0, 0], # A = 0, B = 0\n",
    "    [0, 1], # A = 0, B = 1\n",
    "    [1, 0], # A = 1, B = 0\n",
    "    [1, 1]  # A = 1, B = 1\n",
    "]\n",
    "\n",
    "sim = cirq.Simulator()\n",
    "results = []\n",
    "for event in events:\n",
    "    qubits = cirq.LineQubit.range(4)\n",
    "    inputA = qubits[0]\n",
    "    inputB = qubits[1]\n",
    "    sum = qubits[2]\n",
    "    carryout = qubits[3]\n",
    "\n",
    "    circuit_list = [\n",
    "        q_init(inputA, event[0]), \n",
    "        q_init(inputB, event[1]), \n",
    "        quantum_half_adder(*qubits)\n",
    "    ]\n",
    "    circuit_list.append(cirq.measure(*qubits))\n",
    "    cir = cirq.Circuit(circuit_list)\n",
    "    print(cir)\n",
    "\n",
    "    result = sim.run(cir)\n",
    "    results.append(result)"
   ]
  },
  {
   "cell_type": "code",
   "execution_count": 13,
   "metadata": {},
   "outputs": [
    {
     "name": "stdout",
     "output_type": "stream",
     "text": [
      "+-----+-----+-------+-------------+-----------+\n",
      "|  A  |  B  |  Sum  |  Carry Out  |  Decimal  |\n",
      "+=====+=====+=======+=============+===========+\n",
      "|  0  |  0  |   0   |      0      |     0     |\n",
      "+-----+-----+-------+-------------+-----------+\n",
      "|  0  |  1  |   1   |      0      |     1     |\n",
      "+-----+-----+-------+-------------+-----------+\n",
      "|  1  |  0  |   1   |      0      |     1     |\n",
      "+-----+-----+-------+-------------+-----------+\n",
      "|  1  |  1  |   0   |      1      |     2     |\n",
      "+-----+-----+-------+-------------+-----------+\n"
     ]
    }
   ],
   "source": [
    "import tabulate as tb\n",
    "\n",
    "# Extract measurement results\n",
    "truth_table = []\n",
    "for result in results:\n",
    "    # Get the measurement values for the qubits\n",
    "    measurement = result.records['q(0),q(1),q(2),q(3)'][0][0].tolist()\n",
    "    decimal = measurement[3] * 2 + measurement[2]\n",
    "    measurement.append(decimal)\n",
    "    truth_table.append(measurement)\n",
    "\n",
    "headers = ['A', 'B', 'Sum', 'Carry Out', 'Decimal']\n",
    "\n",
    "# Display the truth table\n",
    "print(tb.tabulate(truth_table, headers=headers, tablefmt='grid', numalign='center'))"
   ]
  },
  {
   "attachments": {
    "image.png": {
     "image/png": "[encoded data removed]"
    }
   },
   "cell_type": "markdown",
   "metadata": {},
   "source": [
    "## Exercise 3: follow the logic circuit bellow the build Quantum circuit for full adder\n",
    "\n",
    "![image.png](attachment:image.png)"
   ]
  },
  {
   "cell_type": "code",
   "execution_count": 14,
   "metadata": {},
   "outputs": [
    {
     "name": "stdout",
     "output_type": "stream",
     "text": [
      "                            ┌──┐\n",
      "A: ─────────────@───────@──────────────────M───\n",
      "                │       │                  │\n",
      "B: ─────────────┼───@───@──────────────────M───\n",
      "                │   │   │                  │\n",
      "Carry In: ──────┼───┼───┼────@─────@───────M───\n",
      "                │   │   │    │     │       │\n",
      "Carry Out: ─────┼───┼───┼────┼X────┼───X───M───\n",
      "                │   │   │    ││    │   │   │\n",
      "Carry Out 1: ───┼───┼───X────┼@────┼───┼───M───\n",
      "                │   │        │     │   │   │\n",
      "Carry Out 2: ───┼───┼────────┼─────X───@───M───\n",
      "                │   │        │     │       │\n",
      "Sum: ───────────┼───┼───X────X─────┼───────M───\n",
      "                │   │   │          │       │\n",
      "Sum 1: ─────────X───X───@──────────@───────M───\n",
      "                            └──┘\n",
      "                ┌──┐           ┌──┐\n",
      "A: ───────────────@────────@──────────────────M───\n",
      "                  │        │                  │\n",
      "B: ───────────────┼────@───@──────────────────M───\n",
      "                  │    │   │                  │\n",
      "Carry In: ───────X┼────┼───┼────@─────@───────M───\n",
      "                  │    │   │    │     │       │\n",
      "Carry Out: ───────┼────┼───┼────┼X────┼───X───M───\n",
      "                  │    │   │    ││    │   │   │\n",
      "Carry Out 1: ─────┼────┼───X────┼@────┼───┼───M───\n",
      "                  │    │        │     │   │   │\n",
      "Carry Out 2: ─────┼────┼────────┼─────X───@───M───\n",
      "                  │    │        │     │       │\n",
      "Sum: ─────────────┼────┼───X────X─────┼───────M───\n",
      "                  │    │   │          │       │\n",
      "Sum 1: ───────────X────X───@──────────@───────M───\n",
      "                └──┘           └──┘\n",
      "                ┌──┐           ┌──┐\n",
      "A: ───────────────@────────@──────────────────M───\n",
      "                  │        │                  │\n",
      "B: ──────────────X┼────@───@──────────────────M───\n",
      "                  │    │   │                  │\n",
      "Carry In: ────────┼────┼───┼────@─────@───────M───\n",
      "                  │    │   │    │     │       │\n",
      "Carry Out: ───────┼────┼───┼────┼X────┼───X───M───\n",
      "                  │    │   │    ││    │   │   │\n",
      "Carry Out 1: ─────┼────┼───X────┼@────┼───┼───M───\n",
      "                  │    │        │     │   │   │\n",
      "Carry Out 2: ─────┼────┼────────┼─────X───@───M───\n",
      "                  │    │        │     │       │\n",
      "Sum: ─────────────┼────┼───X────X─────┼───────M───\n",
      "                  │    │   │          │       │\n",
      "Sum 1: ───────────X────X───@──────────@───────M───\n",
      "                └──┘           └──┘\n",
      "                ┌──┐           ┌──┐\n",
      "A: ───────────────@────────@──────────────────M───\n",
      "                  │        │                  │\n",
      "B: ──────────────X┼────@───@──────────────────M───\n",
      "                  │    │   │                  │\n",
      "Carry In: ───────X┼────┼───┼────@─────@───────M───\n",
      "                  │    │   │    │     │       │\n",
      "Carry Out: ───────┼────┼───┼────┼X────┼───X───M───\n",
      "                  │    │   │    ││    │   │   │\n",
      "Carry Out 1: ─────┼────┼───X────┼@────┼───┼───M───\n",
      "                  │    │        │     │   │   │\n",
      "Carry Out 2: ─────┼────┼────────┼─────X───@───M───\n",
      "                  │    │        │     │       │\n",
      "Sum: ─────────────┼────┼───X────X─────┼───────M───\n",
      "                  │    │   │          │       │\n",
      "Sum 1: ───────────X────X───@──────────@───────M───\n",
      "                └──┘           └──┘\n",
      "                                ┌──┐\n",
      "A: ─────────────X───@───────@──────────────────M───\n",
      "                    │       │                  │\n",
      "B: ─────────────────┼───@───@──────────────────M───\n",
      "                    │   │   │                  │\n",
      "Carry In: ──────────┼───┼───┼────@─────@───────M───\n",
      "                    │   │   │    │     │       │\n",
      "Carry Out: ─────────┼───┼───┼────┼X────┼───X───M───\n",
      "                    │   │   │    ││    │   │   │\n",
      "Carry Out 1: ───────┼───┼───X────┼@────┼───┼───M───\n",
      "                    │   │        │     │   │   │\n",
      "Carry Out 2: ───────┼───┼────────┼─────X───@───M───\n",
      "                    │   │        │     │       │\n",
      "Sum: ───────────────┼───┼───X────X─────┼───────M───\n",
      "                    │   │   │          │       │\n",
      "Sum 1: ─────────────X───X───@──────────@───────M───\n",
      "                                └──┘\n",
      "                                ┌──┐\n",
      "A: ─────────────X───@───────@──────────────────M───\n",
      "                    │       │                  │\n",
      "B: ─────────────────┼───@───@──────────────────M───\n",
      "                    │   │   │                  │\n",
      "Carry In: ──────X───┼───┼───┼────@─────@───────M───\n",
      "                    │   │   │    │     │       │\n",
      "Carry Out: ─────────┼───┼───┼────┼X────┼───X───M───\n",
      "                    │   │   │    ││    │   │   │\n",
      "Carry Out 1: ───────┼───┼───X────┼@────┼───┼───M───\n",
      "                    │   │        │     │   │   │\n",
      "Carry Out 2: ───────┼───┼────────┼─────X───@───M───\n",
      "                    │   │        │     │       │\n",
      "Sum: ───────────────┼───┼───X────X─────┼───────M───\n",
      "                    │   │   │          │       │\n",
      "Sum 1: ─────────────X───X───@──────────@───────M───\n",
      "                                └──┘\n",
      "                                ┌──┐\n",
      "A: ─────────────X───@───────@──────────────────M───\n",
      "                    │       │                  │\n",
      "B: ─────────────X───┼───@───@──────────────────M───\n",
      "                    │   │   │                  │\n",
      "Carry In: ──────────┼───┼───┼────@─────@───────M───\n",
      "                    │   │   │    │     │       │\n",
      "Carry Out: ─────────┼───┼───┼────┼X────┼───X───M───\n",
      "                    │   │   │    ││    │   │   │\n",
      "Carry Out 1: ───────┼───┼───X────┼@────┼───┼───M───\n",
      "                    │   │        │     │   │   │\n",
      "Carry Out 2: ───────┼───┼────────┼─────X───@───M───\n",
      "                    │   │        │     │       │\n",
      "Sum: ───────────────┼───┼───X────X─────┼───────M───\n",
      "                    │   │   │          │       │\n",
      "Sum 1: ─────────────X───X───@──────────@───────M───\n",
      "                                └──┘\n",
      "                                ┌──┐\n",
      "A: ─────────────X───@───────@──────────────────M───\n",
      "                    │       │                  │\n",
      "B: ─────────────X───┼───@───@──────────────────M───\n",
      "                    │   │   │                  │\n",
      "Carry In: ──────X───┼───┼───┼────@─────@───────M───\n",
      "                    │   │   │    │     │       │\n",
      "Carry Out: ─────────┼───┼───┼────┼X────┼───X───M───\n",
      "                    │   │   │    ││    │   │   │\n",
      "Carry Out 1: ───────┼───┼───X────┼@────┼───┼───M───\n",
      "                    │   │        │     │   │   │\n",
      "Carry Out 2: ───────┼───┼────────┼─────X───@───M───\n",
      "                    │   │        │     │       │\n",
      "Sum: ───────────────┼───┼───X────X─────┼───────M───\n",
      "                    │   │   │          │       │\n",
      "Sum 1: ─────────────X───X───@──────────@───────M───\n",
      "                                └──┘\n"
     ]
    }
   ],
   "source": [
    "def quantum_full_adder(\n",
    "        inputA, inputB, carryin, sum, carryout, \n",
    "        carryout1, carryout2, sum1\n",
    "    ):\n",
    "    yield quantum_half_adder(inputA, inputB, sum1, carryout1)\n",
    "    yield quantum_half_adder(sum1, carryin, sum, carryout2)\n",
    "\n",
    "    # OR gate => CNOT gate\n",
    "    # return carryout\n",
    "    yield cirq.CNOT(carryout1, carryout)\n",
    "    yield cirq.CNOT(carryout2, carryout)\n",
    "\n",
    "# create qubits in 8 events\n",
    "events = [\n",
    "    [0, 0, 0], # A = 0, B = 0, Carry In = 0\n",
    "    [0, 0, 1], # A = 0, B = 0, Carry In = 1\n",
    "    [0, 1, 0], # A = 0, B = 1, Carry In = 0\n",
    "    [0, 1, 1], # A = 0, B = 1, Carry In = 1\n",
    "    [1, 0, 0], # A = 1, B = 0, Carry In = 0\n",
    "    [1, 0, 1], # A = 1, B = 0, Carry In = 1\n",
    "    [1, 1, 0], # A = 1, B = 1, Carry In = 0\n",
    "    [1, 1, 1]  # A = 1, B = 1, Carry In = 1\n",
    "]\n",
    "\n",
    "sim = cirq.Simulator()\n",
    "results = []\n",
    "for event in events:\n",
    "    inputA = cirq.NamedQubit('A')\n",
    "    inputB = cirq.NamedQubit('B')\n",
    "    carryin = cirq.NamedQubit('Carry In')\n",
    "    sum = cirq.NamedQubit('Sum')\n",
    "    carryout = cirq.NamedQubit('Carry Out')\n",
    "    carryout_1 = cirq.NamedQubit('Carry Out 1')\n",
    "    carryout_2 = cirq.NamedQubit('Carry Out 2')\n",
    "    sum_1 = cirq.NamedQubit('Sum 1')\n",
    "\n",
    "    qubits = [inputA, inputB, carryin, sum, \n",
    "              carryout, carryout_1, carryout_2, sum_1]\n",
    "\n",
    "\n",
    "    circuit_list = [\n",
    "        q_init(inputA, event[0]), \n",
    "        q_init(inputB, event[1]), \n",
    "        q_init(carryin, event[2]), \n",
    "        quantum_full_adder(*qubits)\n",
    "    ]\n",
    "    circuit_list.append(cirq.measure(*qubits))\n",
    "    cir = cirq.Circuit(circuit_list)\n",
    "    print(cir)\n",
    "\n",
    "    result = sim.run(cir)\n",
    "    results.append(result)"
   ]
  },
  {
   "cell_type": "code",
   "execution_count": 15,
   "metadata": {},
   "outputs": [
    {
     "name": "stdout",
     "output_type": "stream",
     "text": [
      "+-----+-----+------------+-------+-------------+------+------+------+-----------+\n",
      "|  A  |  B  |  Carry In  |  Sum  |  Carry Out  |  c1  |  c2  |  s1  |  Decimal  |\n",
      "+=====+=====+============+=======+=============+======+======+======+===========+\n",
      "|  0  |  0  |     0      |   0   |      0      |  0   |  0   |  0   |     0     |\n",
      "+-----+-----+------------+-------+-------------+------+------+------+-----------+\n",
      "|  0  |  0  |     1      |   1   |      0      |  0   |  0   |  0   |     1     |\n",
      "+-----+-----+------------+-------+-------------+------+------+------+-----------+\n",
      "|  0  |  1  |     0      |   1   |      0      |  0   |  0   |  1   |     1     |\n",
      "+-----+-----+------------+-------+-------------+------+------+------+-----------+\n",
      "|  0  |  1  |     1      |   0   |      1      |  0   |  1   |  1   |     2     |\n",
      "+-----+-----+------------+-------+-------------+------+------+------+-----------+\n",
      "|  1  |  0  |     0      |   1   |      0      |  0   |  0   |  1   |     1     |\n",
      "+-----+-----+------------+-------+-------------+------+------+------+-----------+\n",
      "|  1  |  0  |     1      |   0   |      1      |  0   |  1   |  1   |     2     |\n",
      "+-----+-----+------------+-------+-------------+------+------+------+-----------+\n",
      "|  1  |  1  |     0      |   0   |      1      |  1   |  0   |  0   |     2     |\n",
      "+-----+-----+------------+-------+-------------+------+------+------+-----------+\n",
      "|  1  |  1  |     1      |   1   |      1      |  1   |  0   |  0   |     3     |\n",
      "+-----+-----+------------+-------+-------------+------+------+------+-----------+\n"
     ]
    }
   ],
   "source": [
    "# Extract measurement results\n",
    "truth_table = []\n",
    "for result in results:\n",
    "    # Get the measurement values for the qubits\n",
    "    measurement = result.records[\n",
    "        'A,B,Carry In,Sum,Carry Out,Carry Out 1,Carry Out 2,Sum 1'\n",
    "    ][0][0].tolist()\n",
    "    decimal = measurement[4] * 2 + measurement[3]\n",
    "    measurement.append(decimal)\n",
    "    truth_table.append(measurement)\n",
    "\n",
    "headers = ['A', 'B', 'Carry In', 'Sum', 'Carry Out','c1','c2','s1', 'Decimal']\n",
    "\n",
    "# Display the truth table\n",
    "print(tb.tabulate(truth_table, headers=headers, tablefmt='grid', numalign='center'))"
   ]
  },
  {
   "cell_type": "code",
   "execution_count": 17,
   "metadata": {},
   "outputs": [
    {
     "name": "stdout",
     "output_type": "stream",
     "text": [
      "|0>: ───Z───M───\n",
      "|1>: ───X───Z───M───\n",
      "|+>: ───H───Z───M───\n",
      "|->: ───H───X───Z───M───\n"
     ]
    },
    {
     "data": {
      "image/png": "[encoded data removed]",
      "text/plain": [
       "<Figure size 640x480 with 1 Axes>"
      ]
     },
     "metadata": {},
     "output_type": "display_data"
    },
    {
     "data": {
      "image/png": "[encoded data removed]",
      "text/plain": [
       "<Figure size 640x480 with 1 Axes>"
      ]
     },
     "metadata": {},
     "output_type": "display_data"
    },
    {
     "data": {
      "image/png": "[encoded data removed]",
      "text/plain": [
       "<Figure size 640x480 with 1 Axes>"
      ]
     },
     "metadata": {},
     "output_type": "display_data"
    },
    {
     "data": {
      "image/png": "[encoded data removed]",
      "text/plain": [
       "<Figure size 640x480 with 1 Axes>"
      ]
     },
     "metadata": {},
     "output_type": "display_data"
    }
   ],
   "source": [
    "sim = cirq.Simulator()\n",
    "\n",
    "def sim_circuit(qubit, init=[], sim=sim):\n",
    "    mMeasure = cirq.measure(qubit)\n",
    "    circuit = cirq.Circuit([*init, mMeasure])\n",
    "    print(circuit)\n",
    "\n",
    "    results = sim.simulate(circuit)\n",
    "\n",
    "    # plot the histogram\n",
    "    results = sim.run(circuit, repetitions=100)\n",
    "    cirq.vis.plot_state_histogram(results)\n",
    "    \n",
    "\n",
    "# Z|0> = |0>\n",
    "qubit = cirq.NamedQubit('|0>')\n",
    "sim_circuit(qubit, init=[cirq.Z(qubit)])\n",
    "\n",
    "# Z|1> = -|1>\n",
    "qubit = cirq.NamedQubit('|1>')\n",
    "sim_circuit(qubit, init=[cirq.X(qubit), cirq.Z(qubit)])\n",
    "\n",
    "# Z|+> = |+>\n",
    "qubit = cirq.NamedQubit('|+>')\n",
    "sim_circuit(qubit, init=[cirq.H(qubit), cirq.Z(qubit)])\n",
    "\n",
    "# Z|-> = -|->\n",
    "qubit = cirq.NamedQubit('|->')\n",
    "sim_circuit(qubit, init=[cirq.H(qubit), cirq.X(qubit), cirq.Z(qubit)])\n"
   ]
  },
  {
   "cell_type": "markdown",
   "metadata": {},
   "source": [
    "## Homework\n",
    "### Build the circuits in Cirq to generate all possible Bell states"
   ]
  },
  {
   "cell_type": "code",
   "execution_count": 77,
   "metadata": {},
   "outputs": [],
   "source": [
    "# show data in table\n",
    "def show_table(results):\n",
    "    header = ['q[0]', 'q[1]']\n",
    "    print(tb.tabulate(results.measurements['q(0),q(1)'], headers=header, tablefmt='grid', numalign='center'))"
   ]
  },
  {
   "cell_type": "markdown",
   "metadata": {},
   "source": [
    "1. $\\ket{\\Phi^+} = \\frac1 {\\sqrt{2}}(\\ket{00} + \\ket{11})$"
   ]
  },
  {
   "cell_type": "code",
   "execution_count": null,
   "metadata": {},
   "outputs": [
    {
     "name": "stdout",
     "output_type": "stream",
     "text": [
      "0: ───H───@───M───\n",
      "          │   │\n",
      "1: ───────X───M───\n",
      "+--------+--------+\n",
      "|  q[0]  |  q[1]  |\n",
      "+========+========+\n",
      "|   0    |   0    |\n",
      "+--------+--------+\n",
      "|   1    |   1    |\n",
      "+--------+--------+\n",
      "|   1    |   1    |\n",
      "+--------+--------+\n",
      "|   1    |   1    |\n",
      "+--------+--------+\n",
      "|   1    |   1    |\n",
      "+--------+--------+\n"
     ]
    }
   ],
   "source": [
    "# phi+ = |00> + |11>\n",
    "qubits = cirq.LineQubit.range(2)\n",
    "mH = cirq.H(qubits[0])                      # make q[0] to |+>\n",
    "mCNOT = cirq.CNOT(qubits[0], qubits[1])     # make q[1] == q[0]\n",
    "mMeasure = cirq.measure(*qubits)\n",
    "\n",
    "cir = cirq.Circuit([mH, mCNOT, mMeasure])\n",
    "print(cir)\n",
    "\n",
    "results = sim.run(cir, repetitions=5)\n",
    "show_table(results)"
   ]
  },
  {
   "cell_type": "markdown",
   "metadata": {},
   "source": [
    "2. $\\ket{\\Phi^-} = \\frac1 {\\sqrt{2}}(\\ket{00} - \\ket{11})$"
   ]
  },
  {
   "cell_type": "code",
   "execution_count": null,
   "metadata": {},
   "outputs": [
    {
     "name": "stdout",
     "output_type": "stream",
     "text": [
      "0: ───H───@───Z───M───\n",
      "          │       │\n",
      "1: ───────X───────M───\n",
      "+--------+--------+\n",
      "|  q[0]  |  q[1]  |\n",
      "+========+========+\n",
      "|   1    |   1    |\n",
      "+--------+--------+\n",
      "|   1    |   1    |\n",
      "+--------+--------+\n",
      "|   0    |   0    |\n",
      "+--------+--------+\n",
      "|   1    |   1    |\n",
      "+--------+--------+\n",
      "|   0    |   0    |\n",
      "+--------+--------+\n"
     ]
    }
   ],
   "source": [
    "# phi- = |00> - |11>\n",
    "qubits = cirq.LineQubit.range(2)\n",
    "mH = cirq.H(qubits[0])                      # make q[0] to |+>\n",
    "mCNOT = cirq.CNOT(qubits[0], qubits[1])     # make q[1] == q[0]\n",
    "mZ = cirq.Z(qubits[0])                      # flip phase of q[0]\n",
    "mMeasure = cirq.measure(*qubits)\n",
    "\n",
    "cir = cirq.Circuit([mH, mCNOT, mZ, mMeasure])\n",
    "print(cir)\n",
    "\n",
    "results = sim.run(cir, repetitions=5)\n",
    "\n",
    "show_table(results)"
   ]
  },
  {
   "cell_type": "markdown",
   "metadata": {},
   "source": [
    "3. $\\ket{\\Psi^+} = \\frac1 {\\sqrt{2}}(\\ket{01} + \\ket{10})$"
   ]
  },
  {
   "cell_type": "code",
   "execution_count": null,
   "metadata": {},
   "outputs": [
    {
     "name": "stdout",
     "output_type": "stream",
     "text": [
      "0: ───H───@───────M───\n",
      "          │       │\n",
      "1: ───────X───X───M───\n",
      "+--------+--------+\n",
      "|  q[0]  |  q[1]  |\n",
      "+========+========+\n",
      "|   1    |   0    |\n",
      "+--------+--------+\n",
      "|   0    |   1    |\n",
      "+--------+--------+\n",
      "|   0    |   1    |\n",
      "+--------+--------+\n",
      "|   0    |   1    |\n",
      "+--------+--------+\n",
      "|   0    |   1    |\n",
      "+--------+--------+\n"
     ]
    }
   ],
   "source": [
    "# psi+ = |01> + |10>\n",
    "qubits = cirq.LineQubit.range(2)\n",
    "mH = cirq.H(qubits[0])                      # make q[0] to |+>\n",
    "mCNOT = cirq.CNOT(qubits[0], qubits[1])     # make q[1] == q[0]\n",
    "mX = cirq.X(qubits[1])                      # flip q[1] on X-axis\n",
    "mMeasure = cirq.measure(*qubits)\n",
    "\n",
    "cir = cirq.Circuit([mH, mCNOT, mX, mMeasure])\n",
    "print(cir)\n",
    "\n",
    "results = sim.run(cir, repetitions=5)\n",
    "show_table(results)\n"
   ]
  },
  {
   "cell_type": "markdown",
   "metadata": {},
   "source": [
    "4. $\\ket{\\Psi^-} = \\frac1 {\\sqrt{2}}(\\ket{01} - \\ket{10})$"
   ]
  },
  {
   "cell_type": "code",
   "execution_count": null,
   "metadata": {},
   "outputs": [
    {
     "name": "stdout",
     "output_type": "stream",
     "text": [
      "0: ───H───@───────────M───\n",
      "          │           │\n",
      "1: ───────X───X───Z───M───\n",
      "+--------+--------+\n",
      "|  q[0]  |  q[1]  |\n",
      "+========+========+\n",
      "|   1    |   0    |\n",
      "+--------+--------+\n",
      "|   0    |   1    |\n",
      "+--------+--------+\n",
      "|   1    |   0    |\n",
      "+--------+--------+\n",
      "|   1    |   0    |\n",
      "+--------+--------+\n",
      "|   0    |   1    |\n",
      "+--------+--------+\n"
     ]
    }
   ],
   "source": [
    "# psi- = |01> - |10>\n",
    "qubits = cirq.LineQubit.range(2)\n",
    "mH = cirq.H(qubits[0])                      # make q[0] to |+>\n",
    "mCNOT = cirq.CNOT(qubits[0], qubits[1])     # make q[1] == q[0]\n",
    "mX = cirq.X(qubits[1])                      # flip q[1] on X-axis\n",
    "mZ = cirq.Z(qubits[1])                      # flip phase of q[1]\n",
    "mMeasure = cirq.measure(*qubits)\n",
    "\n",
    "cir = cirq.Circuit([mH, mCNOT, mX, mZ, mMeasure])\n",
    "print(cir)\n",
    "\n",
    "results = sim.run(cir, repetitions=5)\n",
    "show_table(results)"
   ]
  }
 ],
 "metadata": {
  "kernelspec": {
   "display_name": "base",
   "language": "python",
   "name": "python3"
  },
  "language_info": {
   "codemirror_mode": {
    "name": "ipython",
    "version": 3
   },
   "file_extension": ".py",
   "mimetype": "text/x-python",
   "name": "python",
   "nbconvert_exporter": "python",
   "pygments_lexer": "ipython3",
   "version": "3.12.2"
  }
 },
 "nbformat": 4,
 "nbformat_minor": 2
}
